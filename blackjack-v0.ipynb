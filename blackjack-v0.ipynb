{
 "cells": [
  {
   "cell_type": "code",
   "execution_count": 1,
   "metadata": {},
   "outputs": [],
   "source": [
    "import gym\n",
    "import numpy as np\n",
    "\n",
    "from collections import defaultdict, deque\n",
    "import matplotlib.pyplot as plt\n",
    "from mpl_toolkits.axes_grid1 import make_axes_locatable\n",
    "\n",
    "\n",
    "from IPython.display import clear_output"
   ]
  },
  {
   "cell_type": "code",
   "execution_count": 2,
   "metadata": {},
   "outputs": [],
   "source": [
    "env = gym.make('Blackjack-v0')"
   ]
  },
  {
   "cell_type": "code",
   "execution_count": 3,
   "metadata": {},
   "outputs": [],
   "source": [
    "class MonteCarlo():\n",
    "    def __init__(self, nA, gamma, epsilon_decay, epsilon_min, epsilon_max, alpha):\n",
    "        '''\n",
    "        params:\n",
    "        nA => Size of the action space,\n",
    "        gamma => Discount rate,\n",
    "        epsilon, epsilon_max, epsilon_decay, epsilon_min => Used for epsilon-greedy policy,\n",
    "        alpha => Used to update the values\n",
    "        '''\n",
    "        self.nA = nA\n",
    "        self.gamma = gamma\n",
    "        self.epsilon_max = epsilon_max\n",
    "        self.epsilon = epsilon_max\n",
    "        self.epsilon_decay = epsilon_decay\n",
    "        self.epsilon_min = epsilon_min\n",
    "        self.alpha = alpha\n",
    "        self.memory = list()\n",
    "        self.Q = defaultdict(lambda: np.zeros(self.nA))\n",
    "\n",
    "    def act(self, state):\n",
    "        '''\n",
    "        params:\n",
    "        state => state where the agent is at,\n",
    "        returns:\n",
    "        action => choosed from epsilon-greedy policy\n",
    "        '''\n",
    "\n",
    "        policy = np.ones(self.nA)*(self.epsilon/self.nA)\n",
    "        policy[np.argmax(self.Q[state])] = 1-self.epsilon+self.epsilon/self.nA\n",
    "\n",
    "        return np.random.choice(np.arange(self.nA), p=policy)\n",
    "\n",
    "    def remember(self, state, action, reward):\n",
    "        self.memory.append((state, action, reward))\n",
    "\n",
    "    def update(self, step):\n",
    "        self.epsilon = self.epsilon_min + (self.epsilon_max-self.epsilon_min)*np.exp(-self.epsilon_decay*step)\n",
    "        states, actions, rewards = zip(*self.memory)\n",
    "        discount = np.array([self.gamma**i for i in range(len(states)+1)])\n",
    "        for i in range(len(states)):\n",
    "            old_Q = self.Q[states[i]][actions[i]]\n",
    "            self.Q[states[i]][actions[i]] = old_Q + self.alpha * \\\n",
    "                (sum(rewards[i:]*discount[:len(states)-i])-old_Q)"
   ]
  },
  {
   "cell_type": "code",
   "execution_count": 4,
   "metadata": {},
   "outputs": [
    {
     "name": "stdout",
     "output_type": "stream",
     "text": [
      "Episode 49999/50000 ... reward -0.038 ... epsilon: 0.007731882206648756\n"
     ]
    }
   ],
   "source": [
    "rewards = deque(maxlen=500)\n",
    "num_episodes = 50000\n",
    "epsilon_max = 1.0\n",
    "epsilon_min = 0.001\n",
    "epsilon_decay = 0.0001\n",
    "agent = MonteCarlo(nA=2, gamma=1.0, epsilon_decay=epsilon_decay,\n",
    "                   epsilon_min=epsilon_min, epsilon_max=epsilon_max, alpha=0.1)\n",
    "for i_episode in range(num_episodes):\n",
    "    total_reward = 0\n",
    "    state = env.reset()\n",
    "    while True:\n",
    "        action = agent.act(state)\n",
    "        next_state, reward, done, _ = env.step(action)\n",
    "        agent.remember(state, action, reward)\n",
    "        state = next_state\n",
    "        total_reward += reward\n",
    "        if done:\n",
    "            agent.update(i_episode)\n",
    "            agent.memory = []\n",
    "            clear_output(True)\n",
    "            rewards.append(total_reward)\n",
    "            print('Episode {}/{} ... reward {} ... epsilon: {}'.format(i_episode,\n",
    "                                                       num_episodes, np.mean(rewards), agent.epsilon))\n",
    "            break"
   ]
  },
  {
   "cell_type": "code",
   "execution_count": 5,
   "metadata": {},
   "outputs": [],
   "source": [
    "policy = dict((k,np.argmax(v)) for k, v in agent.Q.items())"
   ]
  },
  {
   "cell_type": "code",
   "execution_count": 6,
   "metadata": {},
   "outputs": [],
   "source": [
    "def plot_policy(policy):\n",
    "\n",
    "    def get_Z(x, y, usable_ace):\n",
    "        if (x,y,usable_ace) in policy:\n",
    "            return policy[x,y,usable_ace]\n",
    "        else:\n",
    "            return 1\n",
    "\n",
    "    def get_figure(usable_ace, ax):\n",
    "        x_range = np.arange(11, 22)\n",
    "        y_range = np.arange(10, 0, -1)\n",
    "        X, Y = np.meshgrid(x_range, y_range)\n",
    "        Z = np.array([[get_Z(x,y,usable_ace) for x in x_range] for y in y_range])\n",
    "        surf = ax.imshow(Z, cmap=plt.get_cmap('Pastel2', 2), vmin=0, vmax=1, extent=[10.5, 21.5, 0.5, 10.5])\n",
    "        plt.xticks(x_range)\n",
    "        plt.yticks(y_range)\n",
    "        plt.gca().invert_yaxis()\n",
    "        ax.set_xlabel('Player\\'s Current Sum')\n",
    "        ax.set_ylabel('Dealer\\'s Showing Card')\n",
    "        ax.grid(color='w', linestyle='-', linewidth=1)\n",
    "        divider = make_axes_locatable(ax)\n",
    "        cax = divider.append_axes(\"right\", size=\"5%\", pad=0.1)\n",
    "        cbar = plt.colorbar(surf, ticks=[0,1], cax=cax)\n",
    "        cbar.ax.set_yticklabels(['0 (STICK)','1 (HIT)'])\n",
    "            \n",
    "    fig = plt.figure(figsize=(15, 15))\n",
    "    ax = fig.add_subplot(121)\n",
    "    ax.set_title('Usable Ace')\n",
    "    get_figure(True, ax)\n",
    "    ax = fig.add_subplot(122)\n",
    "    ax.set_title('No Usable Ace')\n",
    "    get_figure(False, ax)\n",
    "    plt.show()"
   ]
  },
  {
   "cell_type": "code",
   "execution_count": 7,
   "metadata": {},
   "outputs": [
    {
     "data": {
      "image/png": "[encoded data removed]",
      "text/plain": [
       "<Figure size 1080x1080 with 4 Axes>"
      ]
     },
     "metadata": {
      "needs_background": "light"
     },
     "output_type": "display_data"
    }
   ],
   "source": [
    "plot_policy(policy)"
   ]
  }
 ],
 "metadata": {
  "kernelspec": {
   "display_name": "Python 3",
   "language": "python",
   "name": "python3"
  },
  "language_info": {
   "codemirror_mode": {
    "name": "ipython",
    "version": 3
   },
   "file_extension": ".py",
   "mimetype": "text/x-python",
   "name": "python",
   "nbconvert_exporter": "python",
   "pygments_lexer": "ipython3",
   "version": "3.7.1"
  }
 },
 "nbformat": 4,
 "nbformat_minor": 2
}
