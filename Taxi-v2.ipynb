{
 "cells": [
  {
   "cell_type": "code",
   "execution_count": 1,
   "metadata": {},
   "outputs": [],
   "source": [
    "import gym\n",
    "import numpy as np\n",
    "from collections import deque\n",
    "from IPython.display import clear_output\n",
    "import pandas as pd\n",
    "from collections import defaultdict"
   ]
  },
  {
   "cell_type": "code",
   "execution_count": 2,
   "metadata": {},
   "outputs": [],
   "source": [
    "env = gym.make('Taxi-v2')"
   ]
  },
  {
   "cell_type": "code",
   "execution_count": 37,
   "metadata": {},
   "outputs": [],
   "source": [
    "class SarsaAgent():\n",
    "    def __init__(self, env, epsilon, gamma, alpha, epsilon_decay, epsilon_min, alpha_decay, alpha_min):\n",
    "        self.epsilon_decay=epsilon_decay\n",
    "        self.alpha_decay=alpha_decay\n",
    "        self.alpha_min=alpha_min\n",
    "        self.epsilon_min=epsilon_min\n",
    "        self.nA=6\n",
    "        self.gamma=gamma\n",
    "        self.alpha=alpha\n",
    "        self.epsilon=epsilon\n",
    "        self.Q=defaultdict(lambda : np.zeros(self.nA))\n",
    "    def act(self, state, Q_s):\n",
    "        policy=np.ones(self.nA)*(self.epsilon/self.nA)\n",
    "        policy[np.argmax(Q_s)]=1-self.epsilon+self.epsilon/self.nA\n",
    "        return np.random.choice(np.arange(self.nA), p=policy)\n",
    "    def update(self, state, action, reward, next_state, done):\n",
    "        if self.epsilon>self.epsilon_min:\n",
    "            self.epsilon = self.epsilon_decay*self.epsilon\n",
    "        if self.alpha>self.alpha_min:\n",
    "            self.alpha*=self.alpha_decay\n",
    "        if not done:\n",
    "            self.Q[state][action]=(1-self.alpha)*self.Q[state][action]+self.alpha*(reward+self.gamma*self.Q[next_state][next_action])\n",
    "        else:\n",
    "            self.Q[state][action]=reward\n",
    "            "
   ]
  },
  {
   "cell_type": "code",
   "execution_count": 38,
   "metadata": {},
   "outputs": [],
   "source": [
    "class QAgent():\n",
    "    def __init__(self, env, epsilon, gamma, alpha, epsilon_decay, epsilon_min, alpha_decay, alpha_min):\n",
    "        self.epsilon_decay=epsilon_decay\n",
    "        self.alpha_min=alpha_min\n",
    "        self.alpha_decay=alpha_decay\n",
    "        self.epsilon_min=epsilon_min\n",
    "        self.nA=6\n",
    "        self.gamma=gamma\n",
    "        self.alpha=alpha\n",
    "        self.epsilon=epsilon\n",
    "        self.Q=defaultdict(lambda : np.zeros(self.nA))\n",
    "    def act(self, state, Q_s):\n",
    "        policy=np.ones(self.nA)*(self.epsilon/self.nA)\n",
    "        policy[np.argmax(Q_s)]=1-self.epsilon+self.epsilon/self.nA\n",
    "        return np.random.choice(np.arange(self.nA), p=policy)\n",
    "    def update(self, state, action, reward, next_state, done):\n",
    "        if self.epsilon>self.epsilon_min:\n",
    "            self.epsilon = self.epsilon_decay*self.epsilon\n",
    "        if self.alpha>self.alpha_min:\n",
    "            self.alpha*=self.alpha_decay\n",
    "        if not done:\n",
    "            self.Q[state][action]=(1-self.alpha)*self.Q[state][action]+self.alpha*(reward+self.gamma*np.max(self.Q[next_state]))\n",
    "        else:\n",
    "            self.Q[state][action]=reward\n",
    "            "
   ]
  },
  {
   "cell_type": "code",
   "execution_count": 39,
   "metadata": {},
   "outputs": [],
   "source": [
    "class Esarsa_Agent():\n",
    "    def __init__(self, env, epsilon, gamma, alpha, epsilon_decay, epsilon_min, alpha_decay, alpha_min):\n",
    "        self.epsilon_min=epsilon_min\n",
    "        self.alpha_decay=alpha_decay\n",
    "        self.alpha_min=alpha_min\n",
    "        self.epsilon_decay=epsilon_decay\n",
    "        self.nA=6\n",
    "        self.gamma=gamma\n",
    "        self.alpha=alpha\n",
    "        self.epsilon=epsilon\n",
    "        self.Q=defaultdict(lambda:np.zeros(self.nA))\n",
    "    def act(self, state, Q_s):\n",
    "        policy=np.ones(self.nA)*(self.epsilon/self.nA)\n",
    "        policy[np.argmax(Q_s)]=1-self.epsilon+self.epsilon/self.nA\n",
    "        return np.random.choice(np.arange(self.nA), p=policy)\n",
    "    def update(self, state, action, reward, next_state, done):\n",
    "        if self.epsilon>self.epsilon_min:\n",
    "            self.epsilon = self.epsilon_decay*self.epsilon\n",
    "        if self.alpha>self.alpha_min:\n",
    "            self.alpha*=self.alpha_decay\n",
    "        policy=np.ones(self.nA)*(self.epsilon/self.nA)\n",
    "        policy[np.argmax(self.Q[next_state])]=1-self.epsilon+self.epsilon/self.nA\n",
    "        if not done:\n",
    "            self.Q[state][action]=(1-self.alpha)*self.Q[state][action]+self.alpha*(reward+self.gamma*np.dot(policy,self.Q[next_state]))\n",
    "        else:\n",
    "            self.Q[state][action]=reward\n",
    "            "
   ]
  },
  {
   "cell_type": "code",
   "execution_count": 34,
   "metadata": {},
   "outputs": [
    {
     "name": "stdout",
     "output_type": "stream",
     "text": [
      "Episode 4999 ... score: 6.41\n"
     ]
    }
   ],
   "source": [
    "agent = QAgent(env=env, epsilon=1.0, gamma=1.0, alpha=0.1, alpha_decay=0.99999, alpha_min=0.001, epsilon_min=0.01, epsilon_decay=0.99)\n",
    "score=deque(maxlen=100)\n",
    "Q_scores=list()\n",
    "for i_episode in range(5000):\n",
    "    tot=0\n",
    "    state=env.reset()\n",
    "    while True:\n",
    "        action=agent.act(state, agent.Q[state])\n",
    "        next_state, reward, done, _ = env.step(action)\n",
    "        next_action=agent.act(next_state, agent.Q[next_state])\n",
    "        agent.update(state, action, reward, next_state, done)\n",
    "        tot+=reward\n",
    "        state=next_state\n",
    "        if done:\n",
    "            score.append(tot)\n",
    "            Q_scores.append(np.mean(score))\n",
    "            print(\"Episode {} ... score: {}\".format(i_episode, np.mean(score)))\n",
    "            clear_output(True)\n",
    "            break"
   ]
  },
  {
   "cell_type": "code",
   "execution_count": 35,
   "metadata": {},
   "outputs": [
    {
     "name": "stdout",
     "output_type": "stream",
     "text": [
      "Episode 4999 ... score: 7.5\n"
     ]
    }
   ],
   "source": [
    "agent = Esarsa_Agent(env=env, epsilon=1.0, gamma=1.0, alpha=0.1, alpha_decay=0.99999, alpha_min=0.001, epsilon_min=0.01, epsilon_decay=0.99)\n",
    "score=deque(maxlen=100)\n",
    "Esarsa_scores=list()\n",
    "for i_episode in range(5000):\n",
    "    tot=0\n",
    "    state=env.reset()\n",
    "    while True:\n",
    "        action=agent.act(state, agent.Q[state])\n",
    "        next_state, reward, done, _ = env.step(action)\n",
    "        next_action=agent.act(next_state, agent.Q[next_state])\n",
    "        agent.update(state, action, reward, next_state, done)\n",
    "        tot+=reward\n",
    "        state=next_state\n",
    "        if done:\n",
    "            score.append(tot)\n",
    "            Esarsa_scores.append(np.mean(score))\n",
    "            print(\"Episode {} ... score: {}\".format(i_episode, np.mean(score)))\n",
    "            clear_output(True)\n",
    "            break"
   ]
  },
  {
   "cell_type": "code",
   "execution_count": 40,
   "metadata": {},
   "outputs": [
    {
     "name": "stdout",
     "output_type": "stream",
     "text": [
      "Episode 4999 ... score: 7.66\n"
     ]
    }
   ],
   "source": [
    "agent = SarsaAgent(env=env, epsilon=1.0, gamma=1.0, alpha=0.1, alpha_decay=0.99999, alpha_min=0.001, epsilon_min=0.01, epsilon_decay=0.99)\n",
    "score=deque(maxlen=100)\n",
    "sarsa_scores=list()\n",
    "for i_episode in range(5000):\n",
    "    tot=0\n",
    "    state=env.reset()\n",
    "    while True:\n",
    "        action=agent.act(state, agent.Q[state])\n",
    "        next_state, reward, done, _ = env.step(action)\n",
    "        next_action=agent.act(next_state, agent.Q[next_state])\n",
    "        agent.update(state, action, reward, next_state, done)\n",
    "        tot+=reward\n",
    "        state=next_state\n",
    "        if done:\n",
    "            score.append(tot)\n",
    "            sarsa_scores.append(np.mean(score))\n",
    "            print(\"Episode {} ... score: {}\".format(i_episode, np.mean(score)))\n",
    "            clear_output(True)\n",
    "            break"
   ]
  },
  {
   "cell_type": "code",
   "execution_count": 42,
   "metadata": {},
   "outputs": [
    {
     "data": {
      "text/plain": [
       "<matplotlib.legend.Legend at 0x16139d53cf8>"
      ]
     },
     "execution_count": 42,
     "metadata": {},
     "output_type": "execute_result"
    },
    {
     "data": {
      "image/png": "[encoded data removed]",
      "text/plain": [
       "<Figure size 432x288 with 1 Axes>"
      ]
     },
     "metadata": {},
     "output_type": "display_data"
    }
   ],
   "source": [
    "import matplotlib.pyplot as plt\n",
    "plt.plot(Esarsa_scores)\n",
    "plt.plot(Q_scores)\n",
    "plt.plot(sarsa_scores)\n",
    "plt.legend(['Expected Sarsa', 'Q learning', 'Sarsa'])"
   ]
  },
  {
   "cell_type": "code",
   "execution_count": null,
   "metadata": {},
   "outputs": [],
   "source": []
  }
 ],
 "metadata": {
  "kernelspec": {
   "display_name": "Python 3",
   "language": "python",
   "name": "python3"
  },
  "language_info": {
   "codemirror_mode": {
    "name": "ipython",
    "version": 3
   },
   "file_extension": ".py",
   "mimetype": "text/x-python",
   "name": "python",
   "nbconvert_exporter": "python",
   "pygments_lexer": "ipython3",
   "version": "3.6.6"
  }
 },
 "nbformat": 4,
 "nbformat_minor": 2
}
