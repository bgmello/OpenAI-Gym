{
 "cells": [
  {
   "cell_type": "code",
   "execution_count": 1,
   "metadata": {},
   "outputs": [],
   "source": [
    "import gym\n",
    "import numpy as np\n",
    "from collections import deque\n",
    "from IPython.display import clear_output\n",
    "import pandas as pd"
   ]
  },
  {
   "cell_type": "code",
   "execution_count": 2,
   "metadata": {},
   "outputs": [],
   "source": [
    "env = gym.make('CliffWalking-v0')"
   ]
  },
  {
   "cell_type": "code",
   "execution_count": 4,
   "metadata": {},
   "outputs": [],
   "source": [
    "class SarsaAgent():\n",
    "    def __init__(self, env, epsilon, gamma, alpha, epsilon_decay, epsilon_min):\n",
    "        self.nS=env.nS\n",
    "        self.epsilon_decay=epsilon_decay\n",
    "        self.epsilon_min=epsilon_min\n",
    "        self.nA=env.nA\n",
    "        self.gamma=gamma\n",
    "        self.alpha=alpha\n",
    "        self.epsilon=epsilon\n",
    "        self.Q=np.zeros((self.nS,self.nA))\n",
    "    def act(self, state, Q_s):\n",
    "        policy=np.ones(self.nA)*(self.epsilon/self.nA)\n",
    "        policy[np.argmax(Q_s)]=1-self.epsilon+self.epsilon/self.nA\n",
    "        return np.random.choice(np.arange(self.nA), p=policy)\n",
    "    def update(self, state, action, reward, next_state, next_action, done):\n",
    "        if self.epsilon>self.epsilon_min:\n",
    "            self.epsilon = self.epsilon_decay*self.epsilon\n",
    "        if not done:\n",
    "            self.Q[state][action]=(1-self.alpha)*self.Q[state][action]+self.alpha*(reward+self.gamma*self.Q[next_state][next_action])\n",
    "        else:\n",
    "            self.Q[state][action]=reward\n",
    "            "
   ]
  },
  {
   "cell_type": "code",
   "execution_count": 29,
   "metadata": {},
   "outputs": [
    {
     "name": "stdout",
     "output_type": "stream",
     "text": [
      "Episode 500 ... score: -13.0\n"
     ]
    }
   ],
   "source": [
    "agent = SarsaAgent(env=env, epsilon=1.0, gamma=1.0, alpha=0.1, epsilon_decay=0.9, epsilon_min=0)\n",
    "score=deque(maxlen=1)\n",
    "sarsa_scores=list()\n",
    "ans=10\n",
    "for i_episode in range(500):\n",
    "    tot=0\n",
    "    state=env.reset()\n",
    "    while True:\n",
    "        action=agent.act(state, agent.Q[state])\n",
    "        next_state, reward, done, _ = env.step(action)\n",
    "        next_action=agent.act(next_state, agent.Q[next_state])\n",
    "        agent.update(state, action, reward, next_state, next_action, done)\n",
    "        tot+=reward\n",
    "        state=next_state\n",
    "        if done:\n",
    "            score.append(tot)\n",
    "            sarsa_scores.append(np.mean(score))\n",
    "            print(\"Episode {} ... score: {}\".format(i_episode+1, np.mean(score)))\n",
    "            clear_output(True)\n",
    "            break"
   ]
  },
  {
   "cell_type": "code",
   "execution_count": 21,
   "metadata": {},
   "outputs": [],
   "source": [
    "class QAgent():\n",
    "    def __init__(self, env, epsilon, gamma, alpha, epsilon_decay, epsilon_min):\n",
    "        self.nS=env.nS\n",
    "        self.epsilon_decay=epsilon_decay\n",
    "        self.epsilon_min=epsilon_min\n",
    "        self.nA=env.nA\n",
    "        self.gamma=gamma\n",
    "        self.alpha=alpha\n",
    "        self.epsilon=epsilon\n",
    "        self.Q=np.zeros((self.nS,self.nA))\n",
    "    def act(self, state, Q_s):\n",
    "        policy=np.ones(self.nA)*(self.epsilon/self.nA)\n",
    "        policy[np.argmax(Q_s)]=1-self.epsilon+self.epsilon/self.nA\n",
    "        return np.random.choice(np.arange(self.nA), p=policy)\n",
    "    def update(self, state, action, reward, next_state, done):\n",
    "        if self.epsilon>self.epsilon_min:\n",
    "            self.epsilon = self.epsilon_decay*self.epsilon\n",
    "        if not done:\n",
    "            self.Q[state][action]=(1-self.alpha)*self.Q[state][action]+self.alpha*(reward+self.gamma*np.max(self.Q[next_state]))\n",
    "        else:\n",
    "            self.Q[state][action]=reward\n",
    "            "
   ]
  },
  {
   "cell_type": "code",
   "execution_count": 28,
   "metadata": {},
   "outputs": [
    {
     "name": "stdout",
     "output_type": "stream",
     "text": [
      "Episode 500 ... score: -13.0\n"
     ]
    }
   ],
   "source": [
    "agent = QAgent(env=env, epsilon=1.0, gamma=1.0, alpha=0.1, epsilon_min=0.0, epsilon_decay=0.9)\n",
    "score=deque(maxlen=1)\n",
    "Q_scores=list()\n",
    "ans=10\n",
    "for i_episode in range(500):\n",
    "    tot=0\n",
    "    state=env.reset()\n",
    "    while True:\n",
    "        action=agent.act(state, agent.Q[state])\n",
    "        next_state, reward, done, _ = env.step(action)\n",
    "        agent.update(state, action, reward, next_state, done)\n",
    "        tot+=reward\n",
    "        state=next_state\n",
    "        if done:\n",
    "            score.append(tot)\n",
    "            Q_scores.append(np.mean(score))\n",
    "            print(\"Episode {} ... score: {}\".format(i_episode+1, np.mean(score)))\n",
    "            clear_output(True)\n",
    "            break"
   ]
  },
  {
   "cell_type": "code",
   "execution_count": 23,
   "metadata": {},
   "outputs": [],
   "source": [
    "class Esarsa_Agent():\n",
    "    def __init__(self, env, epsilon, gamma, alpha, epsilon_decay, epsilon_min):\n",
    "        self.nS=env.nS\n",
    "        self.epsilon_min=epsilon_min\n",
    "        self.epsilon_decay=epsilon_decay\n",
    "        self.nA=env.nA\n",
    "        self.gamma=gamma\n",
    "        self.alpha=alpha\n",
    "        self.epsilon=epsilon\n",
    "        self.Q=np.zeros((self.nS,self.nA))\n",
    "    def act(self, state, Q_s):\n",
    "        policy=np.ones(self.nA)*(self.epsilon/self.nA)\n",
    "        policy[np.argmax(Q_s)]=1-self.epsilon+self.epsilon/self.nA\n",
    "        return np.random.choice(np.arange(self.nA), p=policy)\n",
    "    def update(self, state, action, reward, next_state, next_action, done):\n",
    "        if self.epsilon>self.epsilon_min:\n",
    "            self.epsilon = self.epsilon_decay*self.epsilon\n",
    "        policy=np.ones(self.nA)*(self.epsilon/self.nA)\n",
    "        policy[np.argmax(self.Q[next_state])]=1-self.epsilon+self.epsilon/self.nA\n",
    "        if not done:\n",
    "            self.Q[state][action]=(1-self.alpha)*self.Q[state][action]+self.alpha*(reward+self.gamma*np.dot(policy,self.Q[next_state]))\n",
    "        else:\n",
    "            self.Q[state][action]=reward\n",
    "            "
   ]
  },
  {
   "cell_type": "code",
   "execution_count": 26,
   "metadata": {},
   "outputs": [
    {
     "name": "stdout",
     "output_type": "stream",
     "text": [
      "Episode 500 ... score: -13.0\n"
     ]
    }
   ],
   "source": [
    "agent = Esarsa_Agent(env=env, epsilon=1.0, gamma=1.0, alpha=0.1, epsilon_min=0.0, epsilon_decay=0.9)\n",
    "score=deque(maxlen=1)\n",
    "Esarsa_scores=list()\n",
    "ans=10\n",
    "for i_episode in range(500):\n",
    "    tot=0\n",
    "    state=env.reset()\n",
    "    while True:\n",
    "        action=agent.act(state, agent.Q[state])\n",
    "        next_state, reward, done, _ = env.step(action)\n",
    "        next_action=agent.act(next_state, agent.Q[next_state])\n",
    "        agent.update(state, action, reward, next_state, next_action, done)\n",
    "        tot+=reward\n",
    "        state=next_state\n",
    "        if done:\n",
    "            score.append(tot)\n",
    "            Esarsa_scores.append(np.mean(score))\n",
    "            print(\"Episode {} ... score: {}\".format(i_episode+1, np.mean(score)))\n",
    "            clear_output(True)\n",
    "            break"
   ]
  },
  {
   "cell_type": "code",
   "execution_count": 30,
   "metadata": {},
   "outputs": [
    {
     "data": {
      "text/plain": [
       "[<matplotlib.lines.Line2D at 0x1ede9ca7400>]"
      ]
     },
     "execution_count": 30,
     "metadata": {},
     "output_type": "execute_result"
    },
    {
     "data": {
      "image/png": "[encoded data removed]",
      "text/plain": [
       "<Figure size 432x288 with 1 Axes>"
      ]
     },
     "metadata": {},
     "output_type": "display_data"
    }
   ],
   "source": [
    "import matplotlib.pyplot as plt\n",
    "plt.plot(Esarsa_scores)\n",
    "plt.plot(Q_scores)\n",
    "plt.plot(sarsa_scores)"
   ]
  },
  {
   "cell_type": "code",
   "execution_count": null,
   "metadata": {},
   "outputs": [],
   "source": []
  }
 ],
 "metadata": {
  "kernelspec": {
   "display_name": "Python 3",
   "language": "python",
   "name": "python3"
  },
  "language_info": {
   "codemirror_mode": {
    "name": "ipython",
    "version": 3
   },
   "file_extension": ".py",
   "mimetype": "text/x-python",
   "name": "python",
   "nbconvert_exporter": "python",
   "pygments_lexer": "ipython3",
   "version": "3.6.6"
  }
 },
 "nbformat": 4,
 "nbformat_minor": 2
}
